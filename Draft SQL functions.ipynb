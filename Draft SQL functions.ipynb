{
 "cells": [
  {
   "cell_type": "code",
   "execution_count": null,
   "metadata": {},
   "outputs": [],
   "source": [
    "# Import library\n",
    "import pandas as pd\n",
    "from sqlalchemy import create_engine\n",
    "from config import username, password"
   ]
  },
  {
   "cell_type": "markdown",
   "metadata": {},
   "source": [
    "# EXTRACT & TRANSFORM"
   ]
  },
  {
   "cell_type": "markdown",
   "metadata": {},
   "source": [
    "Bees Colony Census Data By County"
   ]
  },
  {
   "cell_type": "code",
   "execution_count": null,
   "metadata": {},
   "outputs": [],
   "source": [
    "# Store beeColonyCensusDataByCounty CSV into DataFrame\n",
    "beeColonyCensusDataByCounty_file = \"data/beeColonyCensusDataByCounty.csv\"\n",
    "beeColonyCensusDataByCounty_df = pd.read_csv(beeColonyCensusDataByCounty_file)\n",
    "beeColonyCensusDataByCounty_df"
   ]
  },
  {
   "cell_type": "code",
   "execution_count": null,
   "metadata": {},
   "outputs": [],
   "source": [
    "# Create new data for CensusDataByCounty_df w selected columns - Removing 'Period' since all rows have the same value\n",
    "CensusDataByCounty_df = beeColonyCensusDataByCounty_df[[\n",
    "    'Year', 'State', 'State ANSI', 'Ag District', 'Ag District Code', 'County', 'County ANSI', 'Value', 'CV (%)']].copy()\n",
    "CensusDataByCounty_rename_df = CensusDataByCounty_df.rename(columns={'CV (%)':'CV_pct'})\n",
    "CensusDataByCounty_rename_df"
   ]
  },
  {
   "cell_type": "code",
   "execution_count": null,
   "metadata": {},
   "outputs": [],
   "source": [
    "# Drop rows with NaN values\n",
    "CensusDataByCounty_rename_df = CensusDataByCounty_rename_df.dropna(how='any')\n",
    "\n",
    "# Exclude data rows with '(D)' or '(H)' in Value & CV (%) columns\n",
    "CensusDataByCounty_rename_df = CensusDataByCounty_rename_df.loc[(CensusDataByCounty_rename_df['Value'] != '(D)') & (CensusDataByCounty_rename_df['CV_pct'] != '(H)') & (CensusDataByCounty_rename_df['CV_pct'] != '(D)')]"
   ]
  },
  {
   "cell_type": "code",
   "execution_count": null,
   "metadata": {},
   "outputs": [],
   "source": [
    "# Convert columns with string of numbers to float/int\n",
    "CensusDataByCounty_rename_df['Value'] = CensusDataByCounty_rename_df.Value.str.replace(',', '').astype(int)\n",
    "CensusDataByCounty_rename_df['CV_pct'] = CensusDataByCounty_rename_df['CV_pct'].astype(float)\n",
    "\n",
    "# CensusDataByCounty_df.dtypes\n",
    "CensusDataByCounty_rename_df"
   ]
  },
  {
   "cell_type": "code",
   "execution_count": null,
   "metadata": {},
   "outputs": [],
   "source": [
    "# Add an id column\n",
    "CensusDataByCounty_rename_df.reset_index(drop=False, inplace=True)\n",
    "CensusDataByCounty_rename_df = CensusDataByCounty_rename_df.rename(columns={'index':'id'})\n",
    "CensusDataByCounty_rename_df.set_index('id', inplace=True)\n",
    "\n",
    "CensusDataByCounty_rename_df.dtypes"
   ]
  },
  {
   "cell_type": "markdown",
   "metadata": {},
   "source": [
    "Bees Colony Loss Data"
   ]
  },
  {
   "cell_type": "code",
   "execution_count": null,
   "metadata": {},
   "outputs": [],
   "source": [
    "# Store beeColonyLoss xlsx into DataFrame\n",
    "beeColonyLoss_file = \"data/beeColonyLossCSV.csv\"\n",
    "beeColonyLoss_df = pd.read_csv(beeColonyLoss_file)\n",
    "beeColonyLoss_df"
   ]
  },
  {
   "cell_type": "code",
   "execution_count": null,
   "metadata": {},
   "outputs": [],
   "source": [
    "# Create new data for ColonyLoss_df w selected columns - Removing 'Season' since all rows have the same value\n",
    "ColonyLoss_df = beeColonyLoss_df[['Year', 'State', 'Total Annual Loss', 'Beekeepers',\n",
    "       'Beekeepers Exclusive to State', 'Colonies',\n",
    "       'Colonies Exclusive to State']].copy()\n",
    "\n",
    "ColonyLoss_renamed_df = ColonyLoss_df.rename(columns={\n",
    "    'Total Annual Loss':'Total Annual Loss_pct',\n",
    "    'Beekeepers Exclusive to State': 'Beekeepers Exclusive to State_pct',\n",
    "    'Colonies Exclusive to State': 'Colonies Exclusive to State_pct'\n",
    "})"
   ]
  },
  {
   "cell_type": "code",
   "execution_count": null,
   "metadata": {},
   "outputs": [],
   "source": [
    "# Drop rows with NaN values\n",
    "ColonyLoss_renamed_df = ColonyLoss_renamed_df.dropna(how='any')\n",
    "ColonyLoss_renamed_df"
   ]
  },
  {
   "cell_type": "code",
   "execution_count": null,
   "metadata": {},
   "outputs": [],
   "source": [
    "# Convert columns with string of numbers to float\n",
    "ColonyLoss_renamed_df['Total Annual Loss_pct'] = ColonyLoss_renamed_df['Total Annual Loss_pct'].str.replace('%', '').astype(float)\n",
    "ColonyLoss_renamed_df['Beekeepers Exclusive to State_pct'] = ColonyLoss_renamed_df['Beekeepers Exclusive to State_pct'].str.replace('%', '').astype(float)\n",
    "ColonyLoss_renamed_df['Colonies Exclusive to State_pct'] = ColonyLoss_renamed_df['Colonies Exclusive to State_pct'].str.replace('%', '').astype(float)\n",
    "\n",
    "# ColonyLoss_renamed_df.dtypes\n",
    "ColonyLoss_renamed_df"
   ]
  },
  {
   "cell_type": "code",
   "execution_count": null,
   "metadata": {},
   "outputs": [],
   "source": [
    "# Add an id column\n",
    "ColonyLoss_renamed_df.reset_index(drop=False, inplace=True)\n",
    "ColonyLoss_renamed_df = ColonyLoss_renamed_df.rename(columns={'index':'id'})\n",
    "ColonyLoss_renamed_df.set_index('id', inplace=True)\n",
    "\n",
    "ColonyLoss_renamed_df.dtypes"
   ]
  },
  {
   "cell_type": "markdown",
   "metadata": {},
   "source": [
    "Bee Colony Survey Data By State"
   ]
  },
  {
   "cell_type": "code",
   "execution_count": null,
   "metadata": {},
   "outputs": [],
   "source": [
    "# Store beeColonySurveyDataByState csv into DataFrame\n",
    "beeColonySurveyDataByState = \"data/beeColonySurveyDataByState.csv\"\n",
    "beeColonySurveyDataByState_df = pd.read_csv(beeColonySurveyDataByState)\n",
    "beeColonySurveyDataByState_df"
   ]
  },
  {
   "cell_type": "code",
   "execution_count": null,
   "metadata": {},
   "outputs": [],
   "source": [
    "# Create new data for SurveyDataByState_df w selected columns - removing 'Week Ending', 'Watershed', 'CV (%)' b/c none of the rows have data\n",
    "SurveyDataByState_df = beeColonySurveyDataByState_df[[\n",
    "    'Year', 'Period', 'State', 'State ANSI', 'Data Item', 'Value']].copy()\n",
    "\n",
    "# Note: There's no NaN values\n",
    "SurveyDataByState_df = SurveyDataByState_df.dropna(how='any') \n",
    "SurveyDataByState_df"
   ]
  },
  {
   "cell_type": "code",
   "execution_count": null,
   "metadata": {},
   "outputs": [],
   "source": [
    "# Convert columns with string of numbers to float\n",
    "SurveyDataByState_df['Value'] = SurveyDataByState_df.Value.str.replace(',', '').astype(int)\n",
    "\n",
    "SurveyDataByState_df"
   ]
  },
  {
   "cell_type": "code",
   "execution_count": null,
   "metadata": {},
   "outputs": [],
   "source": [
    "# Add an id column\n",
    "SurveyDataByState_df.reset_index(drop=False, inplace=True)\n",
    "SurveyDataByState_df = SurveyDataByState_df.rename(columns={'index':'id'})\n",
    "SurveyDataByState_df.set_index('id', inplace=True)\n",
    "\n",
    "SurveyDataByState_df.dtypes"
   ]
  },
  {
   "cell_type": "markdown",
   "metadata": {},
   "source": [
    "# LOAD"
   ]
  },
  {
   "cell_type": "code",
   "execution_count": null,
   "metadata": {},
   "outputs": [],
   "source": [
    "# Create database connection\n",
    "connection_string = f'{username}:{password}@localhost:5432/bees_colonies_db'\n",
    "engine = create_engine(f'postgresql://{connection_string}')"
   ]
  },
  {
   "cell_type": "code",
   "execution_count": null,
   "metadata": {},
   "outputs": [],
   "source": [
    "# Confirm tables\n",
    "engine.table_names()"
   ]
  },
  {
   "cell_type": "code",
   "execution_count": null,
   "metadata": {},
   "outputs": [],
   "source": [
    "# Load SurveyDataByState_df into database\n",
    "SurveyDataByState_df.to_sql(name='census_state', con=engine, if_exists='append', index=True)"
   ]
  },
  {
   "cell_type": "code",
   "execution_count": null,
   "metadata": {},
   "outputs": [],
   "source": [
    "# Load CensusDataByCounty_df into database\n",
    "CensusDataByCounty_rename_df.to_sql(name='census_county', con=engine, if_exists='append', index=True)"
   ]
  },
  {
   "cell_type": "code",
   "execution_count": null,
   "metadata": {},
   "outputs": [],
   "source": [
    "# Load ColonyLoss_renamed_df into database\n",
    "ColonyLoss_renamed_df.to_sql(name='colonyloss', con=engine, if_exists='append', index=True)"
   ]
  },
  {
   "cell_type": "code",
   "execution_count": null,
   "metadata": {},
   "outputs": [],
   "source": [
    "# Verify we can query from the database\n",
    "pd.read_sql_query('select * from census_state', con=engine).head()"
   ]
  },
  {
   "cell_type": "code",
   "execution_count": null,
   "metadata": {},
   "outputs": [],
   "source": [
    "pd.read_sql_query('select * from census_county', con=engine).head()"
   ]
  },
  {
   "cell_type": "code",
   "execution_count": null,
   "metadata": {},
   "outputs": [],
   "source": [
    "pd.read_sql_query('select * from colonyloss', con=engine).head()"
   ]
  },
  {
   "cell_type": "code",
   "execution_count": null,
   "metadata": {},
   "outputs": [],
   "source": []
  }
 ],
 "metadata": {
  "kernelspec": {
   "display_name": "Python 3",
   "language": "python",
   "name": "python3"
  },
  "language_info": {
   "codemirror_mode": {
    "name": "ipython",
    "version": 3
   },
   "file_extension": ".py",
   "mimetype": "text/x-python",
   "name": "python",
   "nbconvert_exporter": "python",
   "pygments_lexer": "ipython3",
   "version": "3.6.10"
  }
 },
 "nbformat": 4,
 "nbformat_minor": 4
}
